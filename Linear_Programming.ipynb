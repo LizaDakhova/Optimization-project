{
 "cells": [
  {
   "cell_type": "code",
   "execution_count": 2,
   "metadata": {},
   "outputs": [],
   "source": [
    "from cvxopt import matrix, solvers\n",
    "import numpy as np"
   ]
  },
  {
   "cell_type": "markdown",
   "metadata": {},
   "source": [
    "## Task 1. Cucumbers and onions"
   ]
  },
  {
   "cell_type": "markdown",
   "metadata": {},
   "source": [
    "A farmer is producing two types of vegetables: cucumbers and onions. His goal is to produce the *maximum weight of vegetables* knowing that the yield is 4kg/m² for cucumbers and 5kg/m² for onions. In order to crop his vegetables he must use two types of fertilizer, A and B.\n",
    "\n",
    "* 8l of fertilizer A is available  \n",
    " 2l/m² is needed for cucumbers and 1l/m² for onions\n",
    "* 7l  of fertilizer B is available  \n",
    " 1l/m² is needed for cucumbers and 2l/m² for onions\n",
    "\n",
    "Unfortunatly, he must also use an anti-parasite in order to prevent his crops from being degraded.\n",
    "\n",
    "* 3l  of anti-parasites is available  \n",
    " 1l/m² is needed for onions  \n",
    " \n",
    "**Question**: model this problem as a linear program.\n"
   ]
  },
  {
   "cell_type": "markdown",
   "metadata": {},
   "source": [
    "**Solution**  \n",
    "Let's  \n",
    "x &mdash; square of cucumbers,  \n",
    "y &mdash; square of onions.  \n",
    "\n",
    "Then task is:   \n",
    "$minimize (-x-y)$   \n",
    "with constraints:  \n",
    "$2x + y \\le 8$  \n",
    "$x + 2y \\le 7$  \n",
    "$x \\ge 0, y \\ge 0$  \n",
    "$y \\le 3$   "
   ]
  },
  {
   "cell_type": "code",
   "execution_count": 3,
   "metadata": {},
   "outputs": [
    {
     "name": "stdout",
     "output_type": "stream",
     "text": [
      "     pcost       dcost       gap    pres   dres   k/t\n",
      " 0: -4.5769e+00 -2.4654e+01  7e+00  0e+00  3e+00  1e+00\n",
      " 1: -4.7341e+00 -6.0227e+00  5e-01  2e-16  2e-01  5e-02\n",
      " 2: -4.9946e+00 -5.0354e+00  1e-02  2e-16  6e-03  2e-03\n",
      " 3: -4.9999e+00 -5.0004e+00  1e-04  2e-16  6e-05  2e-05\n",
      " 4: -5.0000e+00 -5.0000e+00  1e-06  1e-16  6e-07  2e-07\n",
      " 5: -5.0000e+00 -5.0000e+00  1e-08  1e-16  6e-09  2e-09\n",
      "Optimal solution found.\n"
     ]
    }
   ],
   "source": [
    "A = matrix([ [2, 1., -1., 0., 0.], [1., 2., 0., -1., 1.] ])\n",
    "b = matrix([ 8., 7., 0., 0., 3])\n",
    "c = matrix([-1.0, -1.0 ])\n",
    "sol=solvers.lp(c,A,b)"
   ]
  },
  {
   "cell_type": "markdown",
   "metadata": {},
   "source": [
    "**Result**"
   ]
  },
  {
   "cell_type": "code",
   "execution_count": 4,
   "metadata": {},
   "outputs": [
    {
     "name": "stdout",
     "output_type": "stream",
     "text": [
      "[ 3.00e+00]\n",
      "[ 2.00e+00]\n",
      "\n"
     ]
    }
   ],
   "source": [
    " print(sol['x'])"
   ]
  },
  {
   "cell_type": "markdown",
   "metadata": {},
   "source": [
    "## Task 2. German Wines"
   ]
  },
  {
   "cell_type": "markdown",
   "metadata": {},
   "source": [
    "An American distillery produces 3 kinds of genuine German wines:Heidelberg sweet, Heidelberg regular and Deutschland extra dry. The basic products, the workforce and the profit per gallon are given in the following table.\n",
    "\n",
    "\n",
    "|                      |  grapes - type A (bushel) |  grapes - tpe B (bushel)  |  sugar (kg) |  workforce (hours) |  profit (euro)  |\n",
    "|----------------------|---------------------------|---------------------------|-------------|--------------------|-----------------|\n",
    "| Heidelberg sweet     | 1                         | 1                         | 2           | 2                  | 10              |\n",
    "| Heidelberg regular   | 2                         | 0                         | 1           | 3                  | 12              |\n",
    "| Deutschl.  extra dry | 0                         | 2                         | 0           | 1                  | 20              |\n",
    "\n",
    "The distillery owns 150 bushel of grapes of type A, 150 bushel of grapes of type B, 80 kg of sugar and can provide 225 hours of work. What quantity of each wine should be produced to maximize profit?  \n",
    "**Question**: model this problem as a linear program."
   ]
  },
  {
   "cell_type": "markdown",
   "metadata": {},
   "source": [
    "**Solution**  \n",
    "Let's  \n",
    "x &mdash; quantity of Heidelberg sweet wine,  \n",
    "y &mdash; quantity of Heidelberg regular,  \n",
    "z &mdash; quantity of Deutschland extra dry wine.\n",
    "\n",
    "Then task is  \n",
    "$minimize (-10x - 12y - 20z)$  \n",
    "with constraints:  \n",
    "$x+2y\\le150$  \n",
    "$x+2z\\le150$  \n",
    "$2x+y\\le80$   \n",
    "$2x+3y+z\\le225$.  "
   ]
  },
  {
   "cell_type": "code",
   "execution_count": 5,
   "metadata": {},
   "outputs": [
    {
     "name": "stdout",
     "output_type": "stream",
     "text": [
      "     pcost       dcost       gap    pres   dres   k/t\n",
      " 0: -2.0157e+03 -5.0407e+03  8e+02  1e-01  2e+00  1e+00\n",
      " 1: -2.7793e+04 -2.1199e+05  5e+06  9e+00  1e+02  3e+03\n",
      " 2: -5.9862e+03 -2.6783e+04  7e+04  1e+00  1e+01  2e+03\n",
      " 3: -4.0576e+03 -2.0474e+04  6e+04  9e-01  1e+01  4e+03\n",
      " 4: -7.6412e+03 -1.2220e+04  9e+04  5e-01  6e+00  6e+03\n",
      " 5: -1.5492e+04 -1.4313e+04  2e+05  5e-01  6e+00  1e+04\n",
      " 6: -8.7584e+05 -1.1729e+04  9e+06  4e-01  5e+00  9e+05\n",
      " 7: -8.7272e+07 -1.1729e+04  9e+08  4e-01  5e+00  9e+07\n",
      "Certificate of dual infeasibility found.\n"
     ]
    }
   ],
   "source": [
    "A = matrix([ [1., 1., 2., 2.], [2., 0., 1., 3.], [0., 2., 0., 1.] ])\n",
    "b = matrix([ 150., 150., 80., 225.])\n",
    "c = matrix([-10., -12., -20.])\n",
    "sol=solvers.lp(c,A,b)"
   ]
  },
  {
   "cell_type": "markdown",
   "metadata": {},
   "source": [
    "**Result**"
   ]
  },
  {
   "cell_type": "code",
   "execution_count": 6,
   "metadata": {},
   "outputs": [
    {
     "name": "stdout",
     "output_type": "stream",
     "text": [
      "[-3.45e-01]\n",
      "[ 1.48e-01]\n",
      "[ 1.34e-01]\n",
      "\n"
     ]
    }
   ],
   "source": [
    "print(sol['x'])"
   ]
  },
  {
   "cell_type": "markdown",
   "metadata": {},
   "source": [
    "## Task 3. Perfumes"
   ]
  },
  {
   "cell_type": "markdown",
   "metadata": {},
   "source": [
    "A company sells two perfumes for respectively 300 and 500 euros the liter. The perfumes are obtained from three vegetal raw materials which have a liquid form (material A, B and C). The state of the stocks and the quantities of raw materials needed for the fabrication of one liter of each perfume are given below:  \n",
    "\n",
    "|  \t|  Material A (liters) \t|  Material B (liters)  \t|  Material C (liters) \t| Profit (€/liter) \t|\n",
    "|-----------\t|----------------------\t|-----------------------\t|----------------------\t|------------------\t|\n",
    "| Perfume 1 \t| 1 \t| 0 \t| 3 \t| 300 \t|\n",
    "| Perfume 2 \t| 0 \t| 2 \t| 2 \t| 500 \t|\n",
    "| Stocks \t| 4 \t| 12 \t| 18 \t|  \t|\n",
    "\n",
    "For example, one liter of material A and three liters of C are needed to get one liter of perfume 1. What are the quantities (liters) of perfume we should make to maximize the profit?  \n",
    "**Question**: model this problem as a linear program."
   ]
  },
  {
   "cell_type": "code",
   "execution_count": 7,
   "metadata": {},
   "outputs": [
    {
     "name": "stdout",
     "output_type": "stream",
     "text": [
      "     pcost       dcost       gap    pres   dres   k/t\n",
      " 0: -3.5727e+03 -4.0704e+03  5e+02  1e-01  1e-01  1e+00\n",
      " 1: -3.6000e+03 -3.6054e+03  5e+00  1e-03  2e-03  9e-02\n",
      " 2: -3.6000e+03 -3.6001e+03  5e-02  1e-05  2e-05  9e-04\n",
      " 3: -3.6000e+03 -3.6000e+03  5e-04  1e-07  2e-07  9e-06\n",
      " 4: -3.6000e+03 -3.6000e+03  5e-06  1e-09  2e-09  9e-08\n",
      "Optimal solution found.\n"
     ]
    }
   ],
   "source": [
    "A = matrix([ [1., 0., 3.], [0., 2., 2.]])\n",
    "b = matrix([ 4., 12., 18.])\n",
    "c = matrix([-300., -500.])\n",
    "sol=solvers.lp(c,A,b)"
   ]
  },
  {
   "cell_type": "markdown",
   "metadata": {},
   "source": [
    "**Result**"
   ]
  },
  {
   "cell_type": "code",
   "execution_count": 9,
   "metadata": {},
   "outputs": [
    {
     "name": "stdout",
     "output_type": "stream",
     "text": [
      "[ 2.00e+00]\n",
      "[ 6.00e+00]\n",
      "\n"
     ]
    }
   ],
   "source": [
    "print(sol['x'])"
   ]
  },
  {
   "cell_type": "markdown",
   "metadata": {},
   "source": [
    "## Task 4. Dairy Products"
   ]
  },
  {
   "cell_type": "markdown",
   "metadata": {},
   "source": [
    " A dairy cooperative is producing 3 types of cheese: Beaufort, Abondance and Reblochon. The milk needed for each cheese differs depending on the species of the cow (abondances (a), monbéliardes (m) and tarines (t)). The following table gives the quantity of each milk needed to produce one kilogram of a given cheese as well as the labor time needed.\n",
    " \n",
    " |  \t| milk Abondance (liters) \t| milk Monbéliard (liters) \t| milk Tarine (liters) \t| labor time (minutes) \t| selling price (€ / kg) \t|\n",
    "|-----------\t|-------------------------\t|--------------------------\t|----------------------\t|----------------------\t|------------------------\t|\n",
    "| Abondance \t| 5 \t| 3 \t| 2 \t| 15 \t| 20 \t|\n",
    "| Beaufort \t| 5 \t|  \t| 5 \t| 30 \t| 25 \t|\n",
    "| Reblochon \t| 2 \t|  \t| 4 \t| 10 \t| 15 \t|\n",
    "\n",
    "3000 liters of milk a, 1000 liters of milk m and 4000 liters of milk t are usually collected during a week. The available labor time in a week is 250 hours. The cooperative is wondering what kind of cheese should be made to maximize its profit. The unused milk is sold for 0.25 € per liter.  \n",
    "**Question**: model this problem as a linear program."
   ]
  },
  {
   "cell_type": "markdown",
   "metadata": {},
   "source": [
    "**Solution**  \n",
    "We can find maximum of profits in every case and then get maximum from got values.  \n",
    "1. $minimize(-(0.25(3000-5x+1000-3x+4000-2x) + 20x))$  \n",
    "   $15x \\le 250\\cdot60$   \n",
    "   $5x \\le 3000$   \n",
    "   $3x \\le 1000$\n",
    "   $2x \\le 4000$  \n",
    "   $-x \\le 0$  \n",
    "2. $minimize(-(0.25(3000-5y+1000+4000-5y) + 25y)) = minimize(-2000-22.5y)$\n",
    "   $30y \\le 250\\cdot60$  \n",
    "   $5y \\le 3000$  \n",
    "   $5y \\le 4000$  \n",
    "   $-y\\le 0$  \n",
    "3. $minimize(-(0.25(3000-2z+1000+4000-4z) + 15z)) = minimize(-2000-13.5x)$\n",
    "   $10z \\le 250\\cdot60$  \n",
    "   $2z \\le 3000$  \n",
    "   $4z \\le 4000$  \n",
    "   $-z\\le0$\n",
    "   \n",
    "Simplifying expressions we get  \n",
    "$minimize(-x)$, $-x\\le0$, $3x\\le1000$;  \n",
    "$minimize(-y)$, $-y\\le0$, $y\\le500$;  \n",
    "$minimize(-z)$, $-z\\le0$, $z\\le1000$;  \n",
    "\n",
    "4. $argmax(17.5x, 22.5y, 13.5z)$"
   ]
  },
  {
   "cell_type": "code",
   "execution_count": 45,
   "metadata": {},
   "outputs": [
    {
     "name": "stdout",
     "output_type": "stream",
     "text": [
      "     pcost       dcost       gap    pres   dres   k/t\n",
      " 0: -3.0000e+02 -1.4000e+03  4e+02  0e+00  2e+00  1e+00\n",
      " 1: -3.1463e+02 -3.8003e+02  2e+01  2e-16  1e-01  7e-02\n",
      " 2: -3.3316e+02 -3.3410e+02  3e-01  2e-16  2e-03  2e-02\n",
      " 3: -3.3333e+02 -3.3334e+02  3e-03  2e-16  2e-05  2e-04\n",
      " 4: -3.3333e+02 -3.3333e+02  3e-05  2e-16  2e-07  2e-06\n",
      " 5: -3.3333e+02 -3.3333e+02  3e-07  2e-16  2e-09  2e-08\n",
      "Optimal solution found.\n",
      "     pcost       dcost       gap    pres   dres   k/t\n",
      " 0: -2.5000e+02 -1.0000e+03  8e+02  0e+00  0e+00  1e+00\n",
      " 1: -3.8324e+02 -5.0500e+02  1e+02  2e-16  0e+00  3e+00\n",
      " 2: -4.9883e+02 -5.0115e+02  2e+00  3e-16  2e-16  5e-01\n",
      " 3: -4.9999e+02 -5.0001e+02  2e-02  2e-16  1e-16  5e-03\n",
      " 4: -5.0000e+02 -5.0000e+02  2e-04  4e-16  0e+00  5e-05\n",
      "Optimal solution found.\n",
      "     pcost       dcost       gap    pres   dres   k/t\n",
      " 0: -5.0000e+02 -2.0000e+03  2e+03  0e+00  0e+00  1e+00\n",
      " 1: -7.6648e+02 -1.0100e+03  2e+02  2e-16  2e-16  7e+00\n",
      " 2: -9.9766e+02 -1.0023e+03  5e+00  2e-16  2e-16  1e+00\n",
      " 3: -9.9998e+02 -1.0000e+03  5e-02  4e-16  4e-16  1e-02\n",
      " 4: -1.0000e+03 -1.0000e+03  5e-04  3e-16  2e-16  1e-04\n",
      "Optimal solution found.\n"
     ]
    }
   ],
   "source": [
    "A = matrix([[-1., 3.]])\n",
    "b = matrix([0., 1000.])\n",
    "c = matrix([-1.])\n",
    "sol=solvers.lp(c,A,b)\n",
    "x = np.array(sol['x'])\n",
    "A = matrix([[-1., 1]])\n",
    "b = matrix([ 0., 500.])\n",
    "c = matrix([-1.])\n",
    "sol=solvers.lp(c,A,b)\n",
    "y = np.array(sol['x'])\n",
    "A = matrix([[-1., 1.]])\n",
    "b = matrix([ 0., 1000.])\n",
    "c = matrix([-1.])\n",
    "sol=solvers.lp(c,A,b)\n",
    "z = np.array(sol['x'])\n",
    "res = np.argmin([17.5*x, 22.5*y, 13.5*z])"
   ]
  },
  {
   "cell_type": "code",
   "execution_count": 46,
   "metadata": {},
   "outputs": [
    {
     "name": "stdout",
     "output_type": "stream",
     "text": [
      "0\n"
     ]
    }
   ],
   "source": [
    "print(res)"
   ]
  },
  {
   "cell_type": "markdown",
   "metadata": {},
   "source": [
    "**Answer**  \n",
    "Abondance cheese production is more efficient."
   ]
  },
  {
   "cell_type": "markdown",
   "metadata": {},
   "source": [
    "## Task 5. Apples"
   ]
  },
  {
   "cell_type": "markdown",
   "metadata": {},
   "source": [
    "A factory produces juice or cider from apples. The price of a ton of apples is 1500€. Each ton of apples can yield 500 liters of juice or 250 liters of cider. The maximum possible sales (in liters) and selling prices are given in the following table: "
   ]
  },
  {
   "cell_type": "code",
   "execution_count": 5,
   "metadata": {},
   "outputs": [
    {
     "name": "stdout",
     "output_type": "stream",
     "text": [
      "     pcost       dcost       gap    pres   dres   k/t\n",
      " 0: -2.9801e+03 -1.8143e+04  3e+04  4e-01  8e-01  1e+00\n",
      " 1: -5.4562e+03 -9.4662e+03  8e+03  1e-01  2e-01  6e+01\n",
      " 2: -5.8149e+03 -1.0715e+04  1e+04  1e-01  3e-01  1e+02\n",
      " 3: -9.7891e+03 -1.0747e+04  3e+03  3e-02  5e-02  8e+01\n",
      " 4: -1.0890e+04 -1.0968e+04  2e+02  2e-03  4e-03  6e+00\n",
      " 5: -1.0999e+04 -1.1000e+04  2e+00  2e-05  4e-05  7e-02\n",
      " 6: -1.1000e+04 -1.1000e+04  2e-02  2e-07  4e-07  7e-04\n",
      " 7: -1.1000e+04 -1.1000e+04  2e-04  2e-09  4e-09  7e-06\n",
      "Optimal solution found.\n"
     ]
    }
   ],
   "source": [
    "A = matrix([\n",
    "    [-1.0, 0.0, 0.0, 0.0, 1.0, -1.0, 0.0, 0.0, 0.0],\n",
    "    [0.0, -1.0, 0.0, 0.0, -1.0, 1.0, 0.6, -0.6, 0.0],\n",
    "    [0.0, 0.0, -1.0, 0.0, 0.0, 0.0, 1.0, -1.0, 0.0],\n",
    "    [0.0, 0.0, 0.0, -1.0, 0.0, 0.0, -1.0, 1.0, 1.0],\n",
    "])\n",
    "b = matrix([0.0, 0.0, 0.0, 0.0, 5000.0, 0.0, 2000.0, 0.0, 500.0])\n",
    "c = matrix([-1.0, -0.8, -2.0, 4.0])\n",
    "\n",
    "sol=solvers.lp(c,A,b)\n",
    "res = np.round(sol['x'])"
   ]
  },
  {
   "cell_type": "markdown",
   "metadata": {},
   "source": [
    "**Result**"
   ]
  },
  {
   "cell_type": "code",
   "execution_count": 6,
   "metadata": {},
   "outputs": [
    {
     "name": "stdout",
     "output_type": "stream",
     "text": [
      "[[ 8333.]\n",
      " [ 3333.]\n",
      " [    0.]\n",
      " [    0.]]\n"
     ]
    }
   ],
   "source": [
    "print(res)"
   ]
  },
  {
   "cell_type": "code",
   "execution_count": null,
   "metadata": {},
   "outputs": [],
   "source": []
  }
 ],
 "metadata": {
  "kernelspec": {
   "display_name": "Python 3",
   "language": "python",
   "name": "python3"
  },
  "language_info": {
   "codemirror_mode": {
    "name": "ipython",
    "version": 3
   },
   "file_extension": ".py",
   "mimetype": "text/x-python",
   "name": "python",
   "nbconvert_exporter": "python",
   "pygments_lexer": "ipython3",
   "version": "3.6.5"
  }
 },
 "nbformat": 4,
 "nbformat_minor": 2
}
